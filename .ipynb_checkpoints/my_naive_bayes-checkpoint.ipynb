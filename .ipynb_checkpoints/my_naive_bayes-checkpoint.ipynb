{
 "cells": [
  {
   "cell_type": "markdown",
   "metadata": {},
   "source": [
    "### Natural Language Processing ###\n",
    "     A Naive Bayes Classifier \n",
    "     Name: Nana Ama Atombo-Sackey\n",
    "   "
   ]
  },
  {
   "cell_type": "code",
   "execution_count": 58,
   "metadata": {},
   "outputs": [
    {
     "ename": "IndexError",
     "evalue": "list index out of range",
     "output_type": "error",
     "traceback": [
      "\u001b[1;31m---------------------------------------------------------------------------\u001b[0m",
      "\u001b[1;31mIndexError\u001b[0m                                Traceback (most recent call last)",
      "\u001b[1;32m<ipython-input-58-889c38e16878>\u001b[0m in \u001b[0;36m<module>\u001b[1;34m()\u001b[0m\n\u001b[0;32m     23\u001b[0m     \u001b[0mprint\u001b[0m\u001b[1;33m(\u001b[0m\u001b[1;34m\"The total words in the positive class is: \"\u001b[0m \u001b[1;33m,\u001b[0m \u001b[0mlen\u001b[0m\u001b[1;33m(\u001b[0m\u001b[0mdata\u001b[0m\u001b[1;33m[\u001b[0m\u001b[1;36m1\u001b[0m\u001b[1;33m]\u001b[0m\u001b[1;33m)\u001b[0m\u001b[1;33m)\u001b[0m\u001b[1;33m\u001b[0m\u001b[0m\n\u001b[0;32m     24\u001b[0m     \u001b[1;32mreturn\u001b[0m \u001b[0mdata\u001b[0m\u001b[1;33m\u001b[0m\u001b[0m\n\u001b[1;32m---> 25\u001b[1;33m \u001b[0mcorpus\u001b[0m\u001b[1;33m=\u001b[0m \u001b[0mreadFile\u001b[0m\u001b[1;33m(\u001b[0m\u001b[1;33m[\u001b[0m\u001b[1;34m'amazon_cells_labelled.txt'\u001b[0m\u001b[1;33m,\u001b[0m\u001b[1;34m\"imdb_labelled.txt\"\u001b[0m\u001b[1;33m,\u001b[0m\u001b[1;34m\"yelp_labelled.txt\"\u001b[0m\u001b[1;33m]\u001b[0m\u001b[1;33m)\u001b[0m\u001b[1;33m\u001b[0m\u001b[0m\n\u001b[0m\u001b[0;32m     26\u001b[0m \u001b[1;33m\u001b[0m\u001b[0m\n",
      "\u001b[1;32m<ipython-input-58-889c38e16878>\u001b[0m in \u001b[0;36mreadFile\u001b[1;34m(files)\u001b[0m\n\u001b[0;32m     14\u001b[0m             \u001b[0mreview\u001b[0m \u001b[1;33m=\u001b[0m \u001b[0mreview\u001b[0m\u001b[1;33m[\u001b[0m\u001b[1;36m0\u001b[0m\u001b[1;33m]\u001b[0m\u001b[1;33m.\u001b[0m\u001b[0msplit\u001b[0m\u001b[1;33m(\u001b[0m\u001b[1;34m'\\t'\u001b[0m\u001b[1;33m)\u001b[0m\u001b[1;33m\u001b[0m\u001b[0m\n\u001b[0;32m     15\u001b[0m             \u001b[0mfeatures\u001b[0m \u001b[1;33m=\u001b[0m \u001b[0mre\u001b[0m\u001b[1;33m.\u001b[0m\u001b[0msub\u001b[0m\u001b[1;33m(\u001b[0m\u001b[1;34mr\"[&)#-=$!(%)]+\"\u001b[0m\u001b[1;33m,\u001b[0m\u001b[1;34m\"\"\u001b[0m\u001b[1;33m,\u001b[0m\u001b[0mreview\u001b[0m\u001b[1;33m[\u001b[0m\u001b[1;36m0\u001b[0m\u001b[1;33m]\u001b[0m\u001b[1;33m)\u001b[0m\u001b[1;33m\u001b[0m\u001b[0m\n\u001b[1;32m---> 16\u001b[1;33m             \u001b[0mlabel\u001b[0m \u001b[1;33m=\u001b[0m \u001b[0mint\u001b[0m\u001b[1;33m(\u001b[0m\u001b[0mreview\u001b[0m\u001b[1;33m[\u001b[0m\u001b[1;36m1\u001b[0m\u001b[1;33m]\u001b[0m\u001b[1;33m)\u001b[0m\u001b[1;33m\u001b[0m\u001b[0m\n\u001b[0m\u001b[0;32m     17\u001b[0m             \u001b[1;32mif\u001b[0m \u001b[0mlabel\u001b[0m \u001b[1;33m==\u001b[0m \u001b[1;36m0\u001b[0m\u001b[1;33m:\u001b[0m\u001b[1;33m\u001b[0m\u001b[0m\n\u001b[0;32m     18\u001b[0m                 \u001b[0mdata\u001b[0m\u001b[1;33m[\u001b[0m\u001b[1;36m0\u001b[0m\u001b[1;33m]\u001b[0m\u001b[1;33m.\u001b[0m\u001b[0mappend\u001b[0m\u001b[1;33m(\u001b[0m\u001b[0mfeatures\u001b[0m\u001b[1;33m.\u001b[0m\u001b[0msplit\u001b[0m\u001b[1;33m(\u001b[0m\u001b[1;33m)\u001b[0m\u001b[1;33m)\u001b[0m\u001b[1;33m\u001b[0m\u001b[0m\n",
      "\u001b[1;31mIndexError\u001b[0m: list index out of range"
     ]
    }
   ],
   "source": [
    "import sys\n",
    "import re\n",
    "import random\n",
    "from math import *\n",
    "#reading the file.\n",
    "def readFile(files):\n",
    "    data = {\n",
    "        0:[],\n",
    "        1:[]}\n",
    "    for file in files:\n",
    "        for line in open(file):\n",
    "            # getting rid of all regular expressions not needed\n",
    "            review = line.split('\\n')\n",
    "            review = review[0].split('\\t')\n",
    "            features = re.sub(r\"[&)#-=$!(%)]+\",\"\",review[0])   \n",
    "            label = int(review[1])\n",
    "            if label == 0:\n",
    "                data[0].append(features.split())\n",
    "            else:\n",
    "                data[1].append(features.split())\n",
    "            \n",
    "    print(\"The total words in the negative class is: \" , len(data[0])) \n",
    "    print(\"The total words in the positive class is: \" , len(data[1])) \n",
    "    return data\n",
    "corpus= readFile(['amazon_cells_labelled.txt,\"imdb_labelled.txt\",\"yelp_labelled.txt\"])\n",
    "    "
   ]
  },
  {
   "cell_type": "markdown",
   "metadata": {},
   "source": [
    "#### Calculating log prior and loglikelihood ###\n"
   ]
  },
  {
   "cell_type": "code",
   "execution_count": 55,
   "metadata": {},
   "outputs": [
    {
     "name": "stdout",
     "output_type": "stream",
     "text": [
      "The number of documents in D(corpus) is : 2909\n",
      "The number of documents from Corpus in the class is:  1455\n",
      "The logpriority is:  {0: -0.693491000401737, 1: -0.6928034788896088}\n"
     ]
    }
   ],
   "source": [
    "def train(doc):\n",
    "    #Initializng the logprior and Loglikehood\n",
    "    classes= [0,1]\n",
    "    prior = dict()\n",
    "    likelihood= {\n",
    "        0:{},\n",
    "        1:{}\n",
    "    }\n",
    "    numOfDocD = len(doc[0])+len(doc[1])\n",
    "    wordCount = {\n",
    "        0:{},\n",
    "        1:{}\n",
    "    }\n",
    "    print(\"The number of documents in D(corpus) is :\", numOfDocD)\n",
    "    #calculating log prior\n",
    "    for c in classes:\n",
    "        numOfDocClass = len(doc[c])\n",
    "        prior[c] = log((numOfDocClass/numOfDocD))\n",
    "        #print(prior[c])\n",
    "        \n",
    "    print(\"The number of documents from Corpus in the class is: \",numOfDocClass)\n",
    "    print(\"The logpriority is: \", prior)\n",
    "   \n",
    "    for c in doc:\n",
    "        for reviews in doc[c]:\n",
    "\n",
    "            for words in reviews:\n",
    "                if words in wordCount[c]:\n",
    "                    wordCount[c][words]+=1\n",
    "                else:\n",
    "                    wordCount[c][words]=1\n",
    "    \n",
    "    vocabulary = []\n",
    "    for c in classes:\n",
    "        vocabulary += list(wordCount[c].keys()) \n",
    "    vocabulary = set(vocabulary)\n",
    "    for words in vocabulary:\n",
    "        for c in classes:\n",
    "            if words in wordCount[c]:\n",
    "                likelihood[c][words] = log( ((wordCount[c][words] + 1)/(sum(wordCount[c].values())+len(vocabulary))) )\n",
    "            else:\n",
    "                 likelihood[c][words] = log(((1)/(sum(wordCount[c].values())+len(vocabulary))) )\n",
    " \n",
    "    return prior,likelihood,vocabulary\n",
    "prior,likelihood,vocabulary=train(corpus)\n"
   ]
  },
  {
   "cell_type": "markdown",
   "metadata": {},
   "source": [
    "#### Implementing Test Function ####"
   ]
  },
  {
   "cell_type": "code",
   "execution_count": 56,
   "metadata": {},
   "outputs": [],
   "source": [
    "def test(doc, prior, likelihood,vocabulary):\n",
    "    summ = dict()\n",
    "    for c in [0,1]:\n",
    "        summ[c]= prior[c]\n",
    "        for word in doc.split():\n",
    "            if word in vocabulary:\n",
    "                summ[c] = summ[c] + likelihood[c][word]\n",
    "    print(summ)\n",
    "    if summ[0]> summ[1]:\n",
    "        return 0 \n",
    "    else:\n",
    "        return 1\n",
    "    return vocabulary\n",
    "\n",
    "\n",
    "def read(file):\n",
    "    read_me = open(file, \"r\") #Reading file\n",
    "    write_file = open(\"results_file.txt\", \"w\") # Writing to file\n",
    "    finalRead = read_me.readline()\n",
    "    while (len(finalRead) != 0):\n",
    "        result = test(finalRead, prior,likelihood,vocabulary)\n",
    "        print(\"The class for this input is: \",result)\n",
    "        write_file.write(\"The sentence is\" + str(result) + str(\"\\n\"))\n",
    "        finalRead = read_me.readline()\n",
    "        finalRead.close()\n",
    "\n",
    "\n"
   ]
  },
  {
   "cell_type": "code",
   "execution_count": null,
   "metadata": {},
   "outputs": [],
   "source": [
    "if __name__ == \"__main__\":\n",
    "    read(sys.argv[1])\n",
    "else:\n",
    "    print(\"Unable to take file please\")"
   ]
  }
 ],
 "metadata": {
  "kernelspec": {
   "display_name": "Python 3",
   "language": "python",
   "name": "python3"
  },
  "language_info": {
   "codemirror_mode": {
    "name": "ipython",
    "version": 3
   },
   "file_extension": ".py",
   "mimetype": "text/x-python",
   "name": "python",
   "nbconvert_exporter": "python",
   "pygments_lexer": "ipython3",
   "version": "3.7.0"
  }
 },
 "nbformat": 4,
 "nbformat_minor": 2
}
