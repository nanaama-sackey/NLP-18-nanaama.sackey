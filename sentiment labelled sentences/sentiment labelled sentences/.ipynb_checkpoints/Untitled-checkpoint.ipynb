{
 "cells": [
  {
   "cell_type": "code",
   "execution_count": 24,
   "metadata": {},
   "outputs": [
    {
     "name": "stdout",
     "output_type": "stream",
     "text": [
      "The total words in the negative class is:  1500\n",
      "The total words in the positive class is:  1500\n"
     ]
    }
   ],
   "source": [
    "import re\n",
    "from math import *\n",
    "#reading the file.\n",
    "def readFile(files):\n",
    "    MainClassification=[]\n",
    "    data = {\n",
    "        0:[],\n",
    "        1:[]}\n",
    "    for file in files:\n",
    "        for line in open(file):\n",
    "            # getting rid of all regular expressions not needed and substitues it with my own something\n",
    "            lineCleaner = re.sub(r\"[,/?!-()*&^}:;{=$%]\",\"\",line)\n",
    "            lineCleaner2 = re.sub(r\"[.']\",\" \",lineCleaner.casefold())\n",
    "            final = MainClassification.append(lineCleaner2)\n",
    "            review = line.split('\\t')\n",
    "            features= review[0].split()\n",
    "            label = int(review[1])\n",
    "            if label == 0:\n",
    "                data[0].append(features)\n",
    "            else:\n",
    "                data[1].append(features)\n",
    "            \n",
    "    print(\"The total words in the negative class is: \" , len(data[0])) \n",
    "    print(\"The total words in the positive class is: \" , len(data[1])) \n",
    "    return data\n",
    "corpus= readFile(['amazon_cells_labelled.txt',\"imdb_labelled.txt\",\"yelp_labelled.txt\"])\n",
    "    "
   ]
  },
  {
   "cell_type": "code",
   "execution_count": 42,
   "metadata": {},
   "outputs": [
    {
     "name": "stdout",
     "output_type": "stream",
     "text": [
      "The number of documents in D(corpus) is : 3000\n",
      "The number of documents from Corpus in the class is:  1500\n",
      "The logpriority is:   {0: -0.6931471805599453, 1: -0.6931471805599453}\n"
     ]
    }
   ],
   "source": [
    "def train(doc):\n",
    "    #Initoalizing the logprior,Vocabs and Loglikehood\n",
    "    classes= [0,1]\n",
    "    logprior = dict()\n",
    "    loglikehood = dict()\n",
    "    Vocubulary= []\n",
    "    numOfDocD = len(doc[0])+len(doc[1])\n",
    "    print(\"The number of documents in D(corpus) is :\", numOfDocD)\n",
    "   \n",
    "    #calculating log prior\n",
    "    for c in classes:\n",
    "        numOfDocClass = len(doc[c])\n",
    "       \n",
    "        logprior[c] = log(numOfDocClass/numOfDocD)\n",
    "        \n",
    "    print(\"The number of documents from Corpus in the class is: \",numOfDocClass)\n",
    "    print(\"The logpriority is:  \", logprior)\n",
    "        #count=0\n",
    "        #for each word in Vocubulary:\n",
    "            #count(w,c)= count+1(word[c])\n",
    "            #loglikelihood[w,c] = math.log((count(w,c)+1)/(count(w,c)+1))\n",
    "            \n",
    "train(corpus)"
   ]
  },
  {
   "cell_type": "code",
   "execution_count": null,
   "metadata": {},
   "outputs": [],
   "source": []
  },
  {
   "cell_type": "code",
   "execution_count": null,
   "metadata": {},
   "outputs": [],
   "source": []
  },
  {
   "cell_type": "code",
   "execution_count": null,
   "metadata": {},
   "outputs": [],
   "source": []
  }
 ],
 "metadata": {
  "kernelspec": {
   "display_name": "Python 3",
   "language": "python",
   "name": "python3"
  },
  "language_info": {
   "codemirror_mode": {
    "name": "ipython",
    "version": 3
   },
   "file_extension": ".py",
   "mimetype": "text/x-python",
   "name": "python",
   "nbconvert_exporter": "python",
   "pygments_lexer": "ipython3",
   "version": "3.7.0"
  }
 },
 "nbformat": 4,
 "nbformat_minor": 2
}
